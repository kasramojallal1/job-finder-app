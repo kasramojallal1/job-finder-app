{
 "cells": [
  {
   "cell_type": "code",
   "execution_count": 30,
   "metadata": {},
   "outputs": [],
   "source": [
    "import pandas as pd\n",
    "import numpy as np\n",
    "\n",
    "import nltk\n",
    "from nltk.corpus import stopwords\n",
    "from nltk.stem import PorterStemmer, WordNetLemmatizer\n",
    "from nltk.tokenize import word_tokenize\n",
    "\n",
    "from sklearn.feature_extraction.text import TfidfVectorizer\n",
    "from sklearn.metrics.pairwise import cosine_similarity"
   ]
  },
  {
   "cell_type": "code",
   "execution_count": 3,
   "metadata": {},
   "outputs": [
    {
     "name": "stderr",
     "output_type": "stream",
     "text": [
      "[nltk_data] Downloading package punkt to /Users/kasra/nltk_data...\n",
      "[nltk_data]   Package punkt is already up-to-date!\n",
      "[nltk_data] Downloading package stopwords to /Users/kasra/nltk_data...\n",
      "[nltk_data]   Package stopwords is already up-to-date!\n",
      "[nltk_data] Downloading package wordnet to /Users/kasra/nltk_data...\n",
      "[nltk_data]   Package wordnet is already up-to-date!\n"
     ]
    },
    {
     "data": {
      "text/plain": [
       "True"
      ]
     },
     "execution_count": 3,
     "metadata": {},
     "output_type": "execute_result"
    }
   ],
   "source": [
    "nltk.download('punkt')\n",
    "nltk.download('stopwords')\n",
    "nltk.download('wordnet')"
   ]
  },
  {
   "cell_type": "code",
   "execution_count": 4,
   "metadata": {},
   "outputs": [],
   "source": [
    "df = pd.read_csv('./datasets/job_descriptions.csv')\n",
    "df = df.sample(frac=0.01)\n",
    "df.to_csv('./datasets/job_descriptions_sample.csv', index=False)"
   ]
  },
  {
   "cell_type": "code",
   "execution_count": 48,
   "metadata": {},
   "outputs": [
    {
     "data": {
      "text/html": [
       "<div>\n",
       "<style scoped>\n",
       "    .dataframe tbody tr th:only-of-type {\n",
       "        vertical-align: middle;\n",
       "    }\n",
       "\n",
       "    .dataframe tbody tr th {\n",
       "        vertical-align: top;\n",
       "    }\n",
       "\n",
       "    .dataframe thead th {\n",
       "        text-align: right;\n",
       "    }\n",
       "</style>\n",
       "<table border=\"1\" class=\"dataframe\">\n",
       "  <thead>\n",
       "    <tr style=\"text-align: right;\">\n",
       "      <th></th>\n",
       "      <th>Qualifications</th>\n",
       "      <th>location</th>\n",
       "      <th>Country</th>\n",
       "      <th>Work Type</th>\n",
       "      <th>Preference</th>\n",
       "      <th>Job Title</th>\n",
       "      <th>Role</th>\n",
       "      <th>Job Description</th>\n",
       "      <th>Benefits</th>\n",
       "      <th>Skills</th>\n",
       "      <th>Responsibilities</th>\n",
       "      <th>Salary Min</th>\n",
       "      <th>Salary Max</th>\n",
       "      <th>Experience Min</th>\n",
       "      <th>Experience Max</th>\n",
       "    </tr>\n",
       "  </thead>\n",
       "  <tbody>\n",
       "    <tr>\n",
       "      <th>0</th>\n",
       "      <td>MBA</td>\n",
       "      <td>Montevideo</td>\n",
       "      <td>Uruguay</td>\n",
       "      <td>Full-Time</td>\n",
       "      <td>Female</td>\n",
       "      <td>Network Security Specialist</td>\n",
       "      <td>Security Consultant</td>\n",
       "      <td>A Security Consultant is responsible for asses...</td>\n",
       "      <td>{'Transportation Benefits, Professional Develo...</td>\n",
       "      <td>Security consulting Risk assessment Security a...</td>\n",
       "      <td>Provide expert advice on security strategies a...</td>\n",
       "      <td>64</td>\n",
       "      <td>120</td>\n",
       "      <td>3</td>\n",
       "      <td>15</td>\n",
       "    </tr>\n",
       "    <tr>\n",
       "      <th>1</th>\n",
       "      <td>B.Com</td>\n",
       "      <td>Cockburn Town</td>\n",
       "      <td>Turks and Caicos Islands</td>\n",
       "      <td>Part-Time</td>\n",
       "      <td>Female</td>\n",
       "      <td>Architect</td>\n",
       "      <td>Sustainable Design Specialist</td>\n",
       "      <td>Sustainable Design Specialists incorporate eco...</td>\n",
       "      <td>{'Tuition Reimbursement, Stock Options or Equi...</td>\n",
       "      <td>Sustainable design principles Energy efficienc...</td>\n",
       "      <td>Focus on sustainable and eco-friendly architec...</td>\n",
       "      <td>60</td>\n",
       "      <td>113</td>\n",
       "      <td>3</td>\n",
       "      <td>12</td>\n",
       "    </tr>\n",
       "  </tbody>\n",
       "</table>\n",
       "</div>"
      ],
      "text/plain": [
       "  Qualifications       location                   Country  Work Type  \\\n",
       "0            MBA     Montevideo                   Uruguay  Full-Time   \n",
       "1          B.Com  Cockburn Town  Turks and Caicos Islands  Part-Time   \n",
       "\n",
       "  Preference                    Job Title                           Role  \\\n",
       "0     Female  Network Security Specialist            Security Consultant   \n",
       "1     Female                    Architect  Sustainable Design Specialist   \n",
       "\n",
       "                                     Job Description  \\\n",
       "0  A Security Consultant is responsible for asses...   \n",
       "1  Sustainable Design Specialists incorporate eco...   \n",
       "\n",
       "                                            Benefits  \\\n",
       "0  {'Transportation Benefits, Professional Develo...   \n",
       "1  {'Tuition Reimbursement, Stock Options or Equi...   \n",
       "\n",
       "                                              Skills  \\\n",
       "0  Security consulting Risk assessment Security a...   \n",
       "1  Sustainable design principles Energy efficienc...   \n",
       "\n",
       "                                    Responsibilities  Salary Min  Salary Max  \\\n",
       "0  Provide expert advice on security strategies a...          64         120   \n",
       "1  Focus on sustainable and eco-friendly architec...          60         113   \n",
       "\n",
       "  Experience Min Experience Max  \n",
       "0             3             15   \n",
       "1             3             12   "
      ]
     },
     "execution_count": 48,
     "metadata": {},
     "output_type": "execute_result"
    }
   ],
   "source": [
    "df = pd.read_csv('./datasets/job_descriptions_sample.csv')\n",
    "df.dropna(inplace=True)\n",
    "df.drop(['Job Id', 'latitude', 'longitude', 'Contact Person', 'Contact', 'Company Size', 'Job Posting Date', 'Company Profile', 'Company', 'Job Portal'], axis=1, inplace=True)\n",
    "df.rename(columns={'skills': 'Skills'}, inplace=True)\n",
    "df.drop_duplicates(subset=['Job Description', 'Benefits', 'Skills', 'Responsibilities'], inplace=True)\n",
    "df[['Salary Min', 'Salary Max']] = df['Salary Range'].str.split('-', expand=True)\n",
    "df[['Salary Min', 'Salary Max']] = df[['Salary Min', 'Salary Max']].apply(lambda x: x.str.replace('$', ''))\n",
    "df[['Salary Min', 'Salary Max']] = df[['Salary Min', 'Salary Max']].apply(lambda x: x.str.replace('K', ''))\n",
    "df.drop(['Salary Range'], axis=1, inplace=True)\n",
    "df[['Experience Min', 'Experience Max']] = df['Experience'].str.split('to', expand=True)\n",
    "df[['Experience Min', 'Experience Max']] = df[['Experience Min', 'Experience Max']].apply(lambda x: x.str.replace('Years', ''))\n",
    "df.drop(['Experience'], axis=1, inplace=True)\n",
    "df['Salary Min'] = pd.to_numeric(df['Salary Min'], errors='coerce')\n",
    "df['Salary Max'] = pd.to_numeric(df['Salary Max'], errors='coerce')\n",
    "df.reset_index(drop=True, inplace=True)\n",
    "df.head(2)"
   ]
  },
  {
   "cell_type": "code",
   "execution_count": 49,
   "metadata": {},
   "outputs": [
    {
     "data": {
      "text/plain": [
       "(3936, 15)"
      ]
     },
     "execution_count": 49,
     "metadata": {},
     "output_type": "execute_result"
    }
   ],
   "source": [
    "df.shape"
   ]
  },
  {
   "cell_type": "code",
   "execution_count": 39,
   "metadata": {},
   "outputs": [],
   "source": [
    "stop_words = set(stopwords.words('english'))\n",
    "stemmer = PorterStemmer()\n",
    "lemmatizer = WordNetLemmatizer()\n",
    "\n",
    "def preprocess_text(text):\n",
    "    tokens = word_tokenize(text.lower())\n",
    "    tokens = [token for token in tokens if token not in stop_words]\n",
    "    \n",
    "    stemmed_tokens = [stemmer.stem(token) for token in tokens]\n",
    "    lemmatized_tokens = [lemmatizer.lemmatize(token) for token in stemmed_tokens]\n",
    "    \n",
    "    preprocessed_text = ' '.join(lemmatized_tokens)\n",
    "    \n",
    "    return preprocessed_text\n",
    "\n",
    "\n",
    "df['Responsibilities'] = df['Responsibilities'].apply(preprocess_text)\n",
    "df['Job Description'] = df['Job Description'].apply(preprocess_text)\n",
    "df['Skills'] = df['Skills'].apply(preprocess_text)\n"
   ]
  },
  {
   "cell_type": "code",
   "execution_count": 40,
   "metadata": {},
   "outputs": [],
   "source": [
    "vectorizer = TfidfVectorizer()\n",
    "vectorizer.fit(df['Responsibilities'] + df['Job Description'] + df['Skills'])\n",
    "\n",
    "responsibilities_vectors = vectorizer.transform(df['Responsibilities'])\n",
    "job_description_vectors = vectorizer.transform(df['Job Description'])\n",
    "skills_vectors = vectorizer.transform(df['Skills'])"
   ]
  },
  {
   "cell_type": "code",
   "execution_count": 41,
   "metadata": {},
   "outputs": [
    {
     "name": "stdout",
     "output_type": "stream",
     "text": [
      "(3936, 1542)\n",
      "(3936, 1542)\n",
      "(3936, 1542)\n"
     ]
    }
   ],
   "source": [
    "print(responsibilities_vectors.shape)\n",
    "print(job_description_vectors.shape)\n",
    "print(skills_vectors.shape)"
   ]
  },
  {
   "cell_type": "code",
   "execution_count": 42,
   "metadata": {},
   "outputs": [
    {
     "name": "stdout",
     "output_type": "stream",
     "text": [
      "Closest to index 0: [  13 3103 2898 2298 2812  403 1732 2497  466 3171]\n"
     ]
    }
   ],
   "source": [
    "combined_vectors = responsibilities_vectors + job_description_vectors + skills_vectors\n",
    "\n",
    "combined_similarity_matrix = cosine_similarity(combined_vectors)\n",
    "\n",
    "related_indices = combined_similarity_matrix[0].argsort()[::-1]\n",
    "closest_indices = related_indices[1:11]\n",
    "\n",
    "print(f\"Closest to index 0: {closest_indices}\")"
   ]
  },
  {
   "cell_type": "code",
   "execution_count": 29,
   "metadata": {},
   "outputs": [],
   "source": [
    "target_row_index = 0\n",
    "\n",
    "target_salary_min = df.loc[target_row_index, 'Salary Min']\n",
    "target_salary_max = df.loc[target_row_index, 'Salary Max']\n",
    "\n",
    "distances = np.sqrt((df['Salary Min'] - target_salary_min)**2 + (df['Salary Max'] - target_salary_max)**2)\n",
    "\n",
    "sorted_indices = distances.argsort()\n",
    "\n",
    "N = 10\n",
    "most_similar_rows = df.iloc[sorted_indices[1:N+1]]\n"
   ]
  }
 ],
 "metadata": {
  "kernelspec": {
   "display_name": "base",
   "language": "python",
   "name": "python3"
  },
  "language_info": {
   "codemirror_mode": {
    "name": "ipython",
    "version": 3
   },
   "file_extension": ".py",
   "mimetype": "text/x-python",
   "name": "python",
   "nbconvert_exporter": "python",
   "pygments_lexer": "ipython3",
   "version": "3.11.5"
  }
 },
 "nbformat": 4,
 "nbformat_minor": 2
}
