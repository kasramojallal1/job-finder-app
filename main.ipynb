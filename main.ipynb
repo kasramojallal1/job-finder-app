{
 "cells": [
  {
   "cell_type": "code",
   "execution_count": 1,
   "metadata": {},
   "outputs": [],
   "source": [
    "import pandas as pd\n",
    "\n",
    "import nltk\n",
    "from nltk.corpus import stopwords\n",
    "from nltk.stem import PorterStemmer, WordNetLemmatizer\n",
    "from nltk.tokenize import word_tokenize\n",
    "\n",
    "from sklearn.feature_extraction.text import TfidfVectorizer\n",
    "from sklearn.metrics.pairwise import cosine_similarity"
   ]
  },
  {
   "cell_type": "code",
   "execution_count": 2,
   "metadata": {},
   "outputs": [
    {
     "name": "stderr",
     "output_type": "stream",
     "text": [
      "[nltk_data] Downloading package punkt to /Users/kasra/nltk_data...\n",
      "[nltk_data]   Package punkt is already up-to-date!\n",
      "[nltk_data] Downloading package stopwords to /Users/kasra/nltk_data...\n",
      "[nltk_data]   Package stopwords is already up-to-date!\n",
      "[nltk_data] Downloading package wordnet to /Users/kasra/nltk_data...\n",
      "[nltk_data]   Package wordnet is already up-to-date!\n"
     ]
    },
    {
     "data": {
      "text/plain": [
       "True"
      ]
     },
     "execution_count": 2,
     "metadata": {},
     "output_type": "execute_result"
    }
   ],
   "source": [
    "nltk.download('punkt')\n",
    "nltk.download('stopwords')\n",
    "nltk.download('wordnet')"
   ]
  },
  {
   "cell_type": "code",
   "execution_count": 11,
   "metadata": {},
   "outputs": [],
   "source": [
    "df = pd.read_csv('./datasets/job_descriptions.csv')\n",
    "df = df.sample(frac=0.01)\n",
    "df.to_csv('./datasets/job_descriptions_sample.csv', index=False)"
   ]
  },
  {
   "cell_type": "code",
   "execution_count": 13,
   "metadata": {},
   "outputs": [
    {
     "data": {
      "text/html": [
       "<div>\n",
       "<style scoped>\n",
       "    .dataframe tbody tr th:only-of-type {\n",
       "        vertical-align: middle;\n",
       "    }\n",
       "\n",
       "    .dataframe tbody tr th {\n",
       "        vertical-align: top;\n",
       "    }\n",
       "\n",
       "    .dataframe thead th {\n",
       "        text-align: right;\n",
       "    }\n",
       "</style>\n",
       "<table border=\"1\" class=\"dataframe\">\n",
       "  <thead>\n",
       "    <tr style=\"text-align: right;\">\n",
       "      <th></th>\n",
       "      <th>Qualifications</th>\n",
       "      <th>location</th>\n",
       "      <th>Country</th>\n",
       "      <th>Work Type</th>\n",
       "      <th>Preference</th>\n",
       "      <th>Job Title</th>\n",
       "      <th>Role</th>\n",
       "      <th>Job Description</th>\n",
       "      <th>Benefits</th>\n",
       "      <th>Skills</th>\n",
       "      <th>Responsibilities</th>\n",
       "      <th>Salary Min</th>\n",
       "      <th>Salary Max</th>\n",
       "      <th>Experience Min</th>\n",
       "      <th>Experience Max</th>\n",
       "    </tr>\n",
       "  </thead>\n",
       "  <tbody>\n",
       "    <tr>\n",
       "      <th>0</th>\n",
       "      <td>B.Tech</td>\n",
       "      <td>City of Port Louis</td>\n",
       "      <td>Mauritius</td>\n",
       "      <td>Temporary</td>\n",
       "      <td>Both</td>\n",
       "      <td>Marketing Director</td>\n",
       "      <td>Digital Marketing Director</td>\n",
       "      <td>Digital Marketing Directors lead digital marke...</td>\n",
       "      <td>{'Life and Disability Insurance, Stock Options...</td>\n",
       "      <td>Digital marketing strategy Marketing analytics...</td>\n",
       "      <td>Develop and oversee digital marketing strategi...</td>\n",
       "      <td>61</td>\n",
       "      <td>80</td>\n",
       "      <td>3</td>\n",
       "      <td>8</td>\n",
       "    </tr>\n",
       "    <tr>\n",
       "      <th>1</th>\n",
       "      <td>MBA</td>\n",
       "      <td>Port of Spain</td>\n",
       "      <td>Trinidad and Tobago</td>\n",
       "      <td>Contract</td>\n",
       "      <td>Male</td>\n",
       "      <td>Procurement Manager</td>\n",
       "      <td>Procurement Analyst</td>\n",
       "      <td>Analyze procurement data, identify cost-saving...</td>\n",
       "      <td>{'Life and Disability Insurance, Stock Options...</td>\n",
       "      <td>Procurement processes Vendor assessment Contra...</td>\n",
       "      <td>Analyze procurement data and trends to support...</td>\n",
       "      <td>55</td>\n",
       "      <td>116</td>\n",
       "      <td>0</td>\n",
       "      <td>12</td>\n",
       "    </tr>\n",
       "  </tbody>\n",
       "</table>\n",
       "</div>"
      ],
      "text/plain": [
       "  Qualifications            location              Country  Work Type  \\\n",
       "0         B.Tech  City of Port Louis            Mauritius  Temporary   \n",
       "1            MBA       Port of Spain  Trinidad and Tobago   Contract   \n",
       "\n",
       "  Preference            Job Title                        Role  \\\n",
       "0       Both   Marketing Director  Digital Marketing Director   \n",
       "1       Male  Procurement Manager         Procurement Analyst   \n",
       "\n",
       "                                     Job Description  \\\n",
       "0  Digital Marketing Directors lead digital marke...   \n",
       "1  Analyze procurement data, identify cost-saving...   \n",
       "\n",
       "                                            Benefits  \\\n",
       "0  {'Life and Disability Insurance, Stock Options...   \n",
       "1  {'Life and Disability Insurance, Stock Options...   \n",
       "\n",
       "                                              Skills  \\\n",
       "0  Digital marketing strategy Marketing analytics...   \n",
       "1  Procurement processes Vendor assessment Contra...   \n",
       "\n",
       "                                    Responsibilities Salary Min Salary Max  \\\n",
       "0  Develop and oversee digital marketing strategi...         61         80   \n",
       "1  Analyze procurement data and trends to support...         55        116   \n",
       "\n",
       "  Experience Min Experience Max  \n",
       "0             3              8   \n",
       "1             0             12   "
      ]
     },
     "execution_count": 13,
     "metadata": {},
     "output_type": "execute_result"
    }
   ],
   "source": [
    "df = pd.read_csv('./datasets/job_descriptions_sample.csv')\n",
    "df.dropna(inplace=True)\n",
    "df.drop(['Job Id', 'latitude', 'longitude', 'Contact Person', 'Contact', 'Company Size', 'Job Posting Date', 'Company Profile', 'Company', 'Job Portal'], axis=1, inplace=True)\n",
    "df.rename(columns={'skills': 'Skills'}, inplace=True)\n",
    "df[['Salary Min', 'Salary Max']] = df['Salary Range'].str.split('-', expand=True)\n",
    "df[['Salary Min', 'Salary Max']] = df[['Salary Min', 'Salary Max']].apply(lambda x: x.str.replace('$', ''))\n",
    "df[['Salary Min', 'Salary Max']] = df[['Salary Min', 'Salary Max']].apply(lambda x: x.str.replace('K', ''))\n",
    "df.drop(['Salary Range'], axis=1, inplace=True)\n",
    "df[['Experience Min', 'Experience Max']] = df['Experience'].str.split('to', expand=True)\n",
    "df[['Experience Min', 'Experience Max']] = df[['Experience Min', 'Experience Max']].apply(lambda x: x.str.replace('Years', ''))\n",
    "df.drop(['Experience'], axis=1, inplace=True)\n",
    "df.reset_index(drop=True, inplace=True)\n",
    "df.head(2)"
   ]
  },
  {
   "cell_type": "code",
   "execution_count": 15,
   "metadata": {},
   "outputs": [
    {
     "data": {
      "text/plain": [
       "(16118, 15)"
      ]
     },
     "execution_count": 15,
     "metadata": {},
     "output_type": "execute_result"
    }
   ],
   "source": [
    "df.shape"
   ]
  },
  {
   "cell_type": "code",
   "execution_count": 16,
   "metadata": {},
   "outputs": [],
   "source": [
    "stop_words = set(stopwords.words('english'))\n",
    "stemmer = PorterStemmer()\n",
    "lemmatizer = WordNetLemmatizer()\n",
    "\n",
    "def preprocess_text(text):\n",
    "    tokens = word_tokenize(text.lower())\n",
    "    tokens = [token for token in tokens if token not in stop_words]\n",
    "    \n",
    "    stemmed_tokens = [stemmer.stem(token) for token in tokens]\n",
    "    lemmatized_tokens = [lemmatizer.lemmatize(token) for token in stemmed_tokens]\n",
    "    \n",
    "    preprocessed_text = ' '.join(lemmatized_tokens)\n",
    "    \n",
    "    return preprocessed_text\n",
    "\n",
    "\n",
    "df['Responsibilities'] = df['Responsibilities'].apply(preprocess_text)\n",
    "df['Job Description'] = df['Job Description'].apply(preprocess_text)\n",
    "df['Skills'] = df['Skills'].apply(preprocess_text)\n"
   ]
  },
  {
   "cell_type": "code",
   "execution_count": 21,
   "metadata": {},
   "outputs": [],
   "source": [
    "vectorizer = TfidfVectorizer()\n",
    "vectorizer.fit(df['Responsibilities'] + df['Job Description'] + df['Skills'])\n",
    "\n",
    "responsibilities_vectors = vectorizer.transform(df['Responsibilities'])\n",
    "job_description_vectors = vectorizer.transform(df['Job Description'])\n",
    "skills_vectors = vectorizer.transform(df['Skills'])"
   ]
  },
  {
   "cell_type": "code",
   "execution_count": 22,
   "metadata": {},
   "outputs": [
    {
     "name": "stdout",
     "output_type": "stream",
     "text": [
      "(16118, 1542)\n",
      "(16118, 1542)\n",
      "(16118, 1542)\n"
     ]
    }
   ],
   "source": [
    "print(responsibilities_vectors.shape)\n",
    "print(job_description_vectors.shape)\n",
    "print(skills_vectors.shape)"
   ]
  },
  {
   "cell_type": "code",
   "execution_count": 23,
   "metadata": {},
   "outputs": [
    {
     "name": "stdout",
     "output_type": "stream",
     "text": [
      "Closest to index 0: [16068  9623 14125 14111 13030  9713 12322 10102  3927  3889]\n"
     ]
    }
   ],
   "source": [
    "combined_vectors = responsibilities_vectors + job_description_vectors + skills_vectors\n",
    "\n",
    "combined_similarity_matrix = cosine_similarity(combined_vectors)\n",
    "\n",
    "related_indices = combined_similarity_matrix[0].argsort()[::-1]\n",
    "closest_indices = related_indices[1:11]\n",
    "\n",
    "print(f\"Closest to index 0: {closest_indices}\")"
   ]
  },
  {
   "cell_type": "code",
   "execution_count": null,
   "metadata": {},
   "outputs": [],
   "source": []
  }
 ],
 "metadata": {
  "kernelspec": {
   "display_name": "base",
   "language": "python",
   "name": "python3"
  },
  "language_info": {
   "codemirror_mode": {
    "name": "ipython",
    "version": 3
   },
   "file_extension": ".py",
   "mimetype": "text/x-python",
   "name": "python",
   "nbconvert_exporter": "python",
   "pygments_lexer": "ipython3",
   "version": "3.11.5"
  }
 },
 "nbformat": 4,
 "nbformat_minor": 2
}
